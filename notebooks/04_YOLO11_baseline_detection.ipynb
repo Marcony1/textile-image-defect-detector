{
 "cells": [
  {
   "cell_type": "markdown",
   "id": "59a1289d",
   "metadata": {},
   "source": [
    "# Textile Defect Detection with YOLO11"
   ]
  },
  {
   "cell_type": "markdown",
   "id": "c3222a70",
   "metadata": {},
   "source": [
    "## 1. Environment Setup"
   ]
  },
  {
   "cell_type": "code",
   "execution_count": 1,
   "id": "2fe47cc1",
   "metadata": {},
   "outputs": [],
   "source": [
    "from ultralytics import YOLO\n",
    "import torch"
   ]
  },
  {
   "cell_type": "markdown",
   "id": "02a6fa4c",
   "metadata": {},
   "source": [
    "### Check CUDA availability\n"
   ]
  },
  {
   "cell_type": "code",
   "execution_count": 2,
   "id": "466a3d8d",
   "metadata": {},
   "outputs": [
    {
     "name": "stdout",
     "output_type": "stream",
     "text": [
      "Using device: 0\n",
      "GPU: NVIDIA GeForce RTX 3060 Laptop GPU\n",
      "CUDA version: 11.8\n"
     ]
    }
   ],
   "source": [
    "local_device = 0 if torch.cuda.is_available() else 'cpu'\n",
    "print(f\"Using device: {local_device}\")\n",
    "\n",
    "if torch.cuda.is_available():\n",
    "    print(f\"GPU: {torch.cuda.get_device_name(0)}\")\n",
    "    print(f\"CUDA version: {torch.version.cuda}\")"
   ]
  },
  {
   "cell_type": "markdown",
   "id": "0fcde8ad",
   "metadata": {},
   "source": [
    "## 2. Training"
   ]
  },
  {
   "cell_type": "code",
   "execution_count": 3,
   "id": "9be37563",
   "metadata": {},
   "outputs": [],
   "source": [
    "# Load a pretrained YOLO11n model\n",
    "model = YOLO(\"yolo11n.pt\")"
   ]
  },
  {
   "cell_type": "code",
   "execution_count": null,
   "id": "e341612b",
   "metadata": {},
   "outputs": [],
   "source": [
    "train_results = model.train(\n",
    "    data=\"../data/01_annotated_data_splitted/data.yaml\",  # Path to dataset configuration file\n",
    "    epochs=100,  # Number of training epochs\n",
    "    imgsz=640,  # Image size for training\n",
    "    device=local_device,  # Device to run on (e.g., 'cpu', 0, [0,1,2,3])\n",
    "    amp=False,  # <-- Disable Automatic Mixed Precision\n",
    "    project=\"../runs\",  # Custom base folder\n",
    "    name=\"training\",  # Subfolder inside 'textile-image-defect-detector'\n",
    "    plots=True,\n",
    "    workers=8\n",
    ")"
   ]
  },
  {
   "cell_type": "markdown",
   "id": "84f29e80",
   "metadata": {},
   "source": [
    "## 3. Validation"
   ]
  },
  {
   "cell_type": "code",
   "execution_count": null,
   "id": "53f56700",
   "metadata": {},
   "outputs": [],
   "source": [
    "model = YOLO(\"../runs/training3/weights/best.pt\")  # load a custom model"
   ]
  }
 ],
 "metadata": {
  "kernelspec": {
   "display_name": "galia_YOLO11",
   "language": "python",
   "name": "python3"
  },
  "language_info": {
   "codemirror_mode": {
    "name": "ipython",
    "version": 3
   },
   "file_extension": ".py",
   "mimetype": "text/x-python",
   "name": "python",
   "nbconvert_exporter": "python",
   "pygments_lexer": "ipython3",
   "version": "3.10.17"
  }
 },
 "nbformat": 4,
 "nbformat_minor": 5
}
